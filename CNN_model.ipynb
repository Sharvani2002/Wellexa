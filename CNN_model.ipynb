{
  "nbformat": 4,
  "nbformat_minor": 0,
  "metadata": {
    "colab": {
      "name": "CNN_model.ipynb",
      "provenance": [],
      "collapsed_sections": []
    },
    "kernelspec": {
      "name": "python3",
      "display_name": "Python 3"
    },
    "accelerator": "GPU"
  },
  "cells": [
    {
      "cell_type": "markdown",
      "metadata": {
        "id": "uuURl8oLRrJx"
      },
      "source": [
        "Load dataset"
      ]
    },
    {
      "cell_type": "code",
      "metadata": {
        "id": "oVh0IAhdh-wj",
        "colab": {
          "base_uri": "https://localhost:8080/",
          "height": 474
        },
        "outputId": "e8308750-5bd8-4f81-c7f7-8092efe9bee6"
      },
      "source": [
        "# Import PyDrive and associated libraries.\n",
        "# This only needs to be done once per notebook.\n",
        "from pydrive.auth import GoogleAuth\n",
        "from pydrive.drive import GoogleDrive\n",
        "from google.colab import auth\n",
        "from oauth2client.client import GoogleCredentials\n",
        "auth.authenticate_user()\n",
        "gauth = GoogleAuth()\n",
        "gauth.credentials = GoogleCredentials.get_application_default()\n",
        "drive = GoogleDrive(gauth)\n",
        "\n",
        "# Download the data file based on its file ID.\n",
        "#https://drive.google.com/drive/folders/1S7HLV6XKtF_Ur4gCD44UajAQTmWybx7S?usp=sharing\n",
        "folder_id = '1S7HLV6XKtF_Ur4gCD44UajAQTmWybx7S'\n",
        "downloaded = drive.CreateFile({'id': folder_id})\n",
        "# print('Downloaded content \"{}\"'.format(downloaded.GetContentString()))"
      ],
      "execution_count": 2,
      "outputs": [
        {
          "output_type": "stream",
          "text": [
            "Go to the following link in your browser:\n",
            "\n",
            "    https://accounts.google.com/o/oauth2/auth?response_type=code&client_id=32555940559.apps.googleusercontent.com&redirect_uri=urn%3Aietf%3Awg%3Aoauth%3A2.0%3Aoob&scope=openid+https%3A%2F%2Fwww.googleapis.com%2Fauth%2Fuserinfo.email+https%3A%2F%2Fwww.googleapis.com%2Fauth%2Fcloud-platform+https%3A%2F%2Fwww.googleapis.com%2Fauth%2Fappengine.admin+https%3A%2F%2Fwww.googleapis.com%2Fauth%2Fcompute+https%3A%2F%2Fwww.googleapis.com%2Fauth%2Faccounts.reauth+https%3A%2F%2Fwww.googleapis.com%2Fauth%2Fdrive&state=dgYdj6eILb4s8353cR3N2zFbwNOo8a&prompt=consent&access_type=offline&code_challenge=1NUPCk_Lhv7pJHQ9LiVBEMLtct0lGTbxRxnFPQTFFCA&code_challenge_method=S256\n",
            "\n",
            "Enter verification code: \n"
          ],
          "name": "stdout"
        },
        {
          "output_type": "error",
          "ename": "AuthorizationError",
          "evalue": "ignored",
          "traceback": [
            "\u001b[0;31m---------------------------------------------------------------------------\u001b[0m",
            "\u001b[0;31mAuthorizationError\u001b[0m                        Traceback (most recent call last)",
            "\u001b[0;32m<ipython-input-2-d85f02ce6c4b>\u001b[0m in \u001b[0;36m<module>\u001b[0;34m()\u001b[0m\n\u001b[1;32m      5\u001b[0m \u001b[0;32mfrom\u001b[0m \u001b[0mgoogle\u001b[0m\u001b[0;34m.\u001b[0m\u001b[0mcolab\u001b[0m \u001b[0;32mimport\u001b[0m \u001b[0mauth\u001b[0m\u001b[0;34m\u001b[0m\u001b[0;34m\u001b[0m\u001b[0m\n\u001b[1;32m      6\u001b[0m \u001b[0;32mfrom\u001b[0m \u001b[0moauth2client\u001b[0m\u001b[0;34m.\u001b[0m\u001b[0mclient\u001b[0m \u001b[0;32mimport\u001b[0m \u001b[0mGoogleCredentials\u001b[0m\u001b[0;34m\u001b[0m\u001b[0;34m\u001b[0m\u001b[0m\n\u001b[0;32m----> 7\u001b[0;31m \u001b[0mauth\u001b[0m\u001b[0;34m.\u001b[0m\u001b[0mauthenticate_user\u001b[0m\u001b[0;34m(\u001b[0m\u001b[0;34m)\u001b[0m\u001b[0;34m\u001b[0m\u001b[0;34m\u001b[0m\u001b[0m\n\u001b[0m\u001b[1;32m      8\u001b[0m \u001b[0mgauth\u001b[0m \u001b[0;34m=\u001b[0m \u001b[0mGoogleAuth\u001b[0m\u001b[0;34m(\u001b[0m\u001b[0;34m)\u001b[0m\u001b[0;34m\u001b[0m\u001b[0;34m\u001b[0m\u001b[0m\n\u001b[1;32m      9\u001b[0m \u001b[0mgauth\u001b[0m\u001b[0;34m.\u001b[0m\u001b[0mcredentials\u001b[0m \u001b[0;34m=\u001b[0m \u001b[0mGoogleCredentials\u001b[0m\u001b[0;34m.\u001b[0m\u001b[0mget_application_default\u001b[0m\u001b[0;34m(\u001b[0m\u001b[0;34m)\u001b[0m\u001b[0;34m\u001b[0m\u001b[0;34m\u001b[0m\u001b[0m\n",
            "\u001b[0;32m/usr/local/lib/python3.7/dist-packages/google/colab/auth.py\u001b[0m in \u001b[0;36mauthenticate_user\u001b[0;34m(clear_output)\u001b[0m\n\u001b[1;32m    149\u001b[0m     \u001b[0mcontext_manager\u001b[0m \u001b[0;34m=\u001b[0m \u001b[0m_output\u001b[0m\u001b[0;34m.\u001b[0m\u001b[0mtemporary\u001b[0m \u001b[0;32mif\u001b[0m \u001b[0mclear_output\u001b[0m \u001b[0;32melse\u001b[0m \u001b[0m_noop\u001b[0m\u001b[0;34m\u001b[0m\u001b[0;34m\u001b[0m\u001b[0m\n\u001b[1;32m    150\u001b[0m     \u001b[0;32mwith\u001b[0m \u001b[0mcontext_manager\u001b[0m\u001b[0;34m(\u001b[0m\u001b[0;34m)\u001b[0m\u001b[0;34m:\u001b[0m\u001b[0;34m\u001b[0m\u001b[0;34m\u001b[0m\u001b[0m\n\u001b[0;32m--> 151\u001b[0;31m       \u001b[0m_gcloud_login\u001b[0m\u001b[0;34m(\u001b[0m\u001b[0;34m)\u001b[0m\u001b[0;34m\u001b[0m\u001b[0;34m\u001b[0m\u001b[0m\n\u001b[0m\u001b[1;32m    152\u001b[0m     \u001b[0m_install_adc\u001b[0m\u001b[0;34m(\u001b[0m\u001b[0;34m)\u001b[0m\u001b[0;34m\u001b[0m\u001b[0;34m\u001b[0m\u001b[0m\n\u001b[1;32m    153\u001b[0m     \u001b[0mcolab_tpu_addr\u001b[0m \u001b[0;34m=\u001b[0m \u001b[0m_os\u001b[0m\u001b[0;34m.\u001b[0m\u001b[0menviron\u001b[0m\u001b[0;34m.\u001b[0m\u001b[0mget\u001b[0m\u001b[0;34m(\u001b[0m\u001b[0;34m'COLAB_TPU_ADDR'\u001b[0m\u001b[0;34m,\u001b[0m \u001b[0;34m''\u001b[0m\u001b[0;34m)\u001b[0m\u001b[0;34m\u001b[0m\u001b[0;34m\u001b[0m\u001b[0m\n",
            "\u001b[0;32m/usr/local/lib/python3.7/dist-packages/google/colab/auth.py\u001b[0m in \u001b[0;36m_gcloud_login\u001b[0;34m()\u001b[0m\n\u001b[1;32m     99\u001b[0m     \u001b[0m_os\u001b[0m\u001b[0;34m.\u001b[0m\u001b[0mremove\u001b[0m\u001b[0;34m(\u001b[0m\u001b[0mname\u001b[0m\u001b[0;34m)\u001b[0m\u001b[0;34m\u001b[0m\u001b[0;34m\u001b[0m\u001b[0m\n\u001b[1;32m    100\u001b[0m   \u001b[0;32mif\u001b[0m \u001b[0mgcloud_process\u001b[0m\u001b[0;34m.\u001b[0m\u001b[0mreturncode\u001b[0m\u001b[0;34m:\u001b[0m\u001b[0;34m\u001b[0m\u001b[0;34m\u001b[0m\u001b[0m\n\u001b[0;32m--> 101\u001b[0;31m     \u001b[0;32mraise\u001b[0m \u001b[0m_errors\u001b[0m\u001b[0;34m.\u001b[0m\u001b[0mAuthorizationError\u001b[0m\u001b[0;34m(\u001b[0m\u001b[0;34m'Error fetching credentials'\u001b[0m\u001b[0;34m)\u001b[0m\u001b[0;34m\u001b[0m\u001b[0;34m\u001b[0m\u001b[0m\n\u001b[0m\u001b[1;32m    102\u001b[0m \u001b[0;34m\u001b[0m\u001b[0m\n\u001b[1;32m    103\u001b[0m \u001b[0;34m\u001b[0m\u001b[0m\n",
            "\u001b[0;31mAuthorizationError\u001b[0m: Error fetching credentials"
          ]
        }
      ]
    },
    {
      "cell_type": "code",
      "metadata": {
        "colab": {
          "base_uri": "https://localhost:8080/"
        },
        "id": "bmLuod9yoXBj",
        "outputId": "74065772-4130-4405-c87b-10ce71a889cb"
      },
      "source": [
        "from google.colab import drive\r\n",
        "drive.mount('/content/drive')"
      ],
      "execution_count": 6,
      "outputs": [
        {
          "output_type": "stream",
          "text": [
            "Mounted at /content/drive\n"
          ],
          "name": "stdout"
        }
      ]
    },
    {
      "cell_type": "code",
      "metadata": {
        "colab": {
          "base_uri": "https://localhost:8080/"
        },
        "id": "3aaQTKUboX6x",
        "outputId": "a7a126a5-6269-4191-bec5-7d2797c3635e"
      },
      "source": [
        "# !unzip -uq \"/content/drive/My Drive/Hackverse Creative_junk team/archive.zip\" -d \"/content/drive/My Drive/Hackverse Creative_junk team/CNN_model.ipynb\"\r\n",
        "!unzip \"/content/drive/My Drive/Hackverse Creative_junk team/archive.zip\""
      ],
      "execution_count": 7,
      "outputs": [
        {
          "output_type": "stream",
          "text": [
            "Archive:  /content/drive/My Drive/Hackverse Creative_junk team/archive.zip\n",
            "  inflating: india_food_21_small/butter_chicken/00000000.jpg  \n",
            "  inflating: india_food_21_small/butter_chicken/00000001.jpg  \n",
            "  inflating: india_food_21_small/butter_chicken/00000002.jpg  \n",
            "  inflating: india_food_21_small/butter_chicken/00000003.jpg  \n",
            "  inflating: india_food_21_small/butter_chicken/00000004.jpg  \n",
            "  inflating: india_food_21_small/butter_chicken/00000005.jpg  \n",
            "  inflating: india_food_21_small/butter_chicken/00000006.jpg  \n",
            "  inflating: india_food_21_small/butter_chicken/00000008.jpg  \n",
            "  inflating: india_food_21_small/butter_chicken/00000009.jpg  \n",
            "  inflating: india_food_21_small/butter_chicken/00000010.jpg  \n",
            "  inflating: india_food_21_small/butter_chicken/00000011.jpg  \n",
            "  inflating: india_food_21_small/butter_chicken/00000012.jpg  \n",
            "  inflating: india_food_21_small/butter_chicken/00000014.jpg  \n",
            "  inflating: india_food_21_small/butter_chicken/00000015.jpg  \n",
            "  inflating: india_food_21_small/butter_chicken/00000016.jpg  \n",
            "  inflating: india_food_21_small/butter_chicken/00000017.jpg  \n",
            "  inflating: india_food_21_small/butter_chicken/00000018.jpg  \n",
            "  inflating: india_food_21_small/butter_chicken/00000019.jpg  \n",
            "  inflating: india_food_21_small/butter_chicken/00000020.jpg  \n",
            "  inflating: india_food_21_small/butter_chicken/00000021.jpg  \n",
            "  inflating: india_food_21_small/butter_chicken/00000022.jpg  \n",
            "  inflating: india_food_21_small/butter_chicken/00000023.jpg  \n",
            "  inflating: india_food_21_small/butter_chicken/00000024.jpg  \n",
            "  inflating: india_food_21_small/butter_naan/00000002.jpg  \n",
            "  inflating: india_food_21_small/butter_naan/00000003.jpg  \n",
            "  inflating: india_food_21_small/butter_naan/00000004.JPG  \n",
            "  inflating: india_food_21_small/butter_naan/00000006.jpg  \n",
            "  inflating: india_food_21_small/butter_naan/00000008.jpg  \n",
            "  inflating: india_food_21_small/butter_naan/00000016.jpg  \n",
            "  inflating: india_food_21_small/butter_naan/00000017.jpg  \n",
            "  inflating: india_food_21_small/butter_naan/00000018.jpg  \n",
            "  inflating: india_food_21_small/butter_naan/00000019.jpg  \n",
            "  inflating: india_food_21_small/butter_naan/00000020.jpg  \n",
            "  inflating: india_food_21_small/butter_naan/00000021.jpg  \n",
            "  inflating: india_food_21_small/butter_naan/00000022.jpg  \n",
            "  inflating: india_food_21_small/butter_naan/00000023.JPG  \n",
            "  inflating: india_food_21_small/butter_naan/00000026.jpg  \n",
            "  inflating: india_food_21_small/chicken_fried_rice/00000000.jpg  \n",
            "  inflating: india_food_21_small/chicken_fried_rice/00000001.jpg  \n",
            "  inflating: india_food_21_small/chicken_fried_rice/00000002.jpg  \n",
            "  inflating: india_food_21_small/chicken_fried_rice/00000003.jpg  \n",
            "  inflating: india_food_21_small/chicken_fried_rice/00000005.jpg  \n",
            "  inflating: india_food_21_small/chicken_fried_rice/00000006.jpg  \n",
            "  inflating: india_food_21_small/chicken_fried_rice/00000008.jpg  \n",
            "  inflating: india_food_21_small/chicken_fried_rice/00000009.jpeg  \n",
            "  inflating: india_food_21_small/chicken_fried_rice/00000010.jpg  \n",
            "  inflating: india_food_21_small/chicken_fried_rice/00000012.jpg  \n",
            "  inflating: india_food_21_small/chicken_fried_rice/00000013.jpg  \n",
            "  inflating: india_food_21_small/chicken_fried_rice/00000015.jpg  \n",
            "  inflating: india_food_21_small/chicken_fried_rice/00000016.jpg  \n",
            "  inflating: india_food_21_small/chicken_fried_rice/00000017.jpg  \n",
            "  inflating: india_food_21_small/chicken_fried_rice/00000018.jpg  \n",
            "  inflating: india_food_21_small/chicken_fried_rice/00000019.jpg  \n",
            "  inflating: india_food_21_small/chicken_fried_rice/00000020.jpg  \n",
            "  inflating: india_food_21_small/chicken_fried_rice/00000022.jpeg  \n",
            "  inflating: india_food_21_small/chicken_fried_rice/00000024.jpg  \n",
            "  inflating: india_food_21_small/chicken_fried_rice/00000025.jpg  \n",
            "  inflating: india_food_21_small/chicken_fried_rice/00000026.jpg  \n",
            "  inflating: india_food_21_small/chicken_fried_rice/00000027.jpg  \n",
            "  inflating: india_food_21_small/chole_bhature/00000000.jpg  \n",
            "  inflating: india_food_21_small/chole_bhature/00000003.jpg  \n",
            "  inflating: india_food_21_small/chole_bhature/00000005.jpg  \n",
            "  inflating: india_food_21_small/chole_bhature/00000006.jpg  \n",
            "  inflating: india_food_21_small/chole_bhature/00000007.jpg  \n",
            "  inflating: india_food_21_small/chole_bhature/00000008.jpg  \n",
            "  inflating: india_food_21_small/chole_bhature/00000009.jpg  \n",
            "  inflating: india_food_21_small/chole_bhature/00000010.jpg  \n",
            "  inflating: india_food_21_small/chole_bhature/00000013.jpg  \n",
            "  inflating: india_food_21_small/chole_bhature/00000014.JPG  \n",
            "  inflating: india_food_21_small/chole_bhature/00000015.jpg  \n",
            "  inflating: india_food_21_small/chole_bhature/00000016.jpg  \n",
            "  inflating: india_food_21_small/chole_bhature/00000017.jpg  \n",
            "  inflating: india_food_21_small/chole_bhature/00000018.jpg  \n",
            "  inflating: india_food_21_small/chole_bhature/00000019.jpg  \n",
            "  inflating: india_food_21_small/chole_bhature/00000021.jpg  \n",
            "  inflating: india_food_21_small/chole_bhature/00000023.jpg  \n",
            "  inflating: india_food_21_small/chole_bhature/00000024.jpg  \n",
            "  inflating: india_food_21_small/chole_bhature/00000025.jpg  \n",
            "  inflating: india_food_21_small/chole_bhature/00000026.jpg  \n",
            "  inflating: india_food_21_small/dahi_bhalla/00000000.jpg  \n",
            "  inflating: india_food_21_small/dahi_bhalla/00000001.jpg  \n",
            "  inflating: india_food_21_small/dahi_bhalla/00000002.jpg  \n",
            "  inflating: india_food_21_small/dahi_bhalla/00000003.JPG  \n",
            "  inflating: india_food_21_small/dahi_bhalla/00000005.jpg  \n",
            "  inflating: india_food_21_small/dahi_bhalla/00000006.jpg  \n",
            "  inflating: india_food_21_small/dahi_bhalla/00000007.jpg  \n",
            "  inflating: india_food_21_small/dahi_bhalla/00000008.jpg  \n",
            "  inflating: india_food_21_small/dahi_bhalla/00000009.jpg  \n",
            "  inflating: india_food_21_small/dahi_bhalla/00000011.jpg  \n",
            "  inflating: india_food_21_small/dahi_bhalla/00000012.jpg  \n",
            "  inflating: india_food_21_small/dahi_bhalla/00000013.jpg  \n",
            "  inflating: india_food_21_small/dahi_bhalla/00000014.jpg  \n",
            "  inflating: india_food_21_small/dahi_bhalla/00000016.jpg  \n",
            "  inflating: india_food_21_small/dahi_bhalla/00000017.jpg  \n",
            "  inflating: india_food_21_small/dahi_bhalla/00000018.jpg  \n",
            "  inflating: india_food_21_small/dahi_bhalla/00000019.jpg  \n",
            "  inflating: india_food_21_small/dahi_bhalla/00000020.jpg  \n",
            "  inflating: india_food_21_small/dahi_bhalla/00000021.jpg  \n",
            "  inflating: india_food_21_small/dahi_bhalla/00000022.jpg  \n",
            "  inflating: india_food_21_small/dahi_bhalla/00000023.jpg  \n",
            "  inflating: india_food_21_small/dahi_bhalla/00000024.jpg  \n",
            "  inflating: india_food_21_small/dal_makhani/00000000.jpg  \n",
            "  inflating: india_food_21_small/dal_makhani/00000001.jpg  \n",
            "  inflating: india_food_21_small/dal_makhani/00000002.jpg  \n",
            "  inflating: india_food_21_small/dal_makhani/00000004.JPG  \n",
            "  inflating: india_food_21_small/dal_makhani/00000005.jpg  \n",
            "  inflating: india_food_21_small/dal_makhani/00000006.jpg  \n",
            "  inflating: india_food_21_small/dal_makhani/00000007.jpg  \n",
            "  inflating: india_food_21_small/dal_makhani/00000008.jpg  \n",
            "  inflating: india_food_21_small/dal_makhani/00000009.jpg  \n",
            "  inflating: india_food_21_small/dal_makhani/00000010.JPG  \n",
            "  inflating: india_food_21_small/dal_makhani/00000011.jpg  \n",
            "  inflating: india_food_21_small/dal_makhani/00000013.jpg  \n",
            "  inflating: india_food_21_small/dal_makhani/00000014.jpg  \n",
            "  inflating: india_food_21_small/dal_makhani/00000015.jpg  \n",
            "  inflating: india_food_21_small/dal_makhani/00000016.jpg  \n",
            "  inflating: india_food_21_small/dal_makhani/00000017.jpg  \n",
            "  inflating: india_food_21_small/dal_makhani/00000019.jpg  \n",
            "  inflating: india_food_21_small/dal_makhani/00000020.jpg  \n",
            "  inflating: india_food_21_small/dal_makhani/00000021.jpg  \n",
            "  inflating: india_food_21_small/dal_makhani/00000023.jpg  \n",
            "  inflating: india_food_21_small/dal_makhani/00000024.jpg  \n",
            "  inflating: india_food_21_small/dal_makhani/00000025.jpg  \n",
            "  inflating: india_food_21_small/dal_makhani/00000026.jpg  \n",
            "  inflating: india_food_21_small/dal_makhani/00000027.jpg  \n",
            "  inflating: india_food_21_small/dal_makhani/00000028.jpg  \n",
            "  inflating: india_food_21_small/gajar_halwa/00000000.jpg  \n",
            "  inflating: india_food_21_small/gajar_halwa/00000001.jpg  \n",
            "  inflating: india_food_21_small/gajar_halwa/00000004.jpg  \n",
            "  inflating: india_food_21_small/gajar_halwa/00000005.jpg  \n",
            "  inflating: india_food_21_small/gajar_halwa/00000006.JPG  \n",
            "  inflating: india_food_21_small/gajar_halwa/00000007.jpg  \n",
            "  inflating: india_food_21_small/gajar_halwa/00000008.jpg  \n",
            "  inflating: india_food_21_small/gajar_halwa/00000010.jpg  \n",
            "  inflating: india_food_21_small/gajar_halwa/00000011.jpg  \n",
            "  inflating: india_food_21_small/gajar_halwa/00000012.jpg  \n",
            "  inflating: india_food_21_small/gajar_halwa/00000013.jpg  \n",
            "  inflating: india_food_21_small/gajar_halwa/00000014.jpg  \n",
            "  inflating: india_food_21_small/gajar_halwa/00000016.jpg  \n",
            "  inflating: india_food_21_small/gajar_halwa/00000017.jpg  \n",
            "  inflating: india_food_21_small/gajar_halwa/00000018.jpg  \n",
            "  inflating: india_food_21_small/gajar_halwa/00000020.jpg  \n",
            "  inflating: india_food_21_small/gajar_halwa/00000021.jpg  \n",
            "  inflating: india_food_21_small/gajar_halwa/00000022.jpg  \n",
            "  inflating: india_food_21_small/gajar_halwa/00000023.jpg  \n",
            "  inflating: india_food_21_small/gajar_halwa/00000024.jpg  \n",
            "  inflating: india_food_21_small/hilsa_fish_curry/00000000.jpg  \n",
            "  inflating: india_food_21_small/hilsa_fish_curry/00000001.jpg  \n",
            "  inflating: india_food_21_small/hilsa_fish_curry/00000002.jpg  \n",
            "  inflating: india_food_21_small/hilsa_fish_curry/00000003.jpg  \n",
            "  inflating: india_food_21_small/hilsa_fish_curry/00000004.jpg  \n",
            "  inflating: india_food_21_small/hilsa_fish_curry/00000005.jpg  \n",
            "  inflating: india_food_21_small/hilsa_fish_curry/00000006.jpg  \n",
            "  inflating: india_food_21_small/hilsa_fish_curry/00000007.jpg  \n",
            "  inflating: india_food_21_small/hilsa_fish_curry/00000008.jpg  \n",
            "  inflating: india_food_21_small/hilsa_fish_curry/00000009.jpg  \n",
            "  inflating: india_food_21_small/hilsa_fish_curry/00000010.JPG  \n",
            "  inflating: india_food_21_small/hilsa_fish_curry/00000011.jpg  \n",
            "  inflating: india_food_21_small/hilsa_fish_curry/00000012.jpg  \n",
            "  inflating: india_food_21_small/hilsa_fish_curry/00000013.jpg  \n",
            "  inflating: india_food_21_small/hilsa_fish_curry/00000014.jpg  \n",
            "  inflating: india_food_21_small/hilsa_fish_curry/00000015.JPG  \n",
            "  inflating: india_food_21_small/hilsa_fish_curry/00000016.jpg  \n",
            "  inflating: india_food_21_small/hilsa_fish_curry/00000017.jpg  \n",
            "  inflating: india_food_21_small/hilsa_fish_curry/00000018.jpg  \n",
            "  inflating: india_food_21_small/hilsa_fish_curry/00000019.JPG  \n",
            "  inflating: india_food_21_small/hilsa_fish_curry/00000020.jpg  \n",
            "  inflating: india_food_21_small/hilsa_fish_curry/00000022.jpg  \n",
            "  inflating: india_food_21_small/hilsa_fish_curry/00000023.jpg  \n",
            "  inflating: india_food_21_small/hilsa_fish_curry/00000024.jpg  \n",
            "  inflating: india_food_21_small/hilsa_fish_curry/00000025.jpg  \n",
            "  inflating: india_food_21_small/hilsa_fish_curry/00000026.jpg  \n",
            "  inflating: india_food_21_small/hilsa_fish_curry/00000028.jpg  \n",
            "  inflating: india_food_21_small/idli/00000000.jpg  \n",
            "  inflating: india_food_21_small/idli/00000001.jpg  \n",
            "  inflating: india_food_21_small/idli/00000003.jpg  \n",
            "  inflating: india_food_21_small/idli/00000004.cms  \n",
            "  inflating: india_food_21_small/idli/00000006.jpg  \n",
            "  inflating: india_food_21_small/idli/00000008.JPG  \n",
            "  inflating: india_food_21_small/idli/00000010.JPG  \n",
            "  inflating: india_food_21_small/idli/00000013.jpg  \n",
            "  inflating: india_food_21_small/idli/00000014.JPG  \n",
            "  inflating: india_food_21_small/idli/00000015.jpg  \n",
            "  inflating: india_food_21_small/idli/00000016.jpg  \n",
            "  inflating: india_food_21_small/idli/00000017.jpg  \n",
            "  inflating: india_food_21_small/idli/00000018.jpg  \n",
            "  inflating: india_food_21_small/idli/00000020.jpg  \n",
            "  inflating: india_food_21_small/idli/00000021.jpg  \n",
            "  inflating: india_food_21_small/idli/00000022.jpg  \n",
            "  inflating: india_food_21_small/idli/00000023.jpg  \n",
            "  inflating: india_food_21_small/idli/00000024.jpg  \n",
            "  inflating: india_food_21_small/idli/00000026.jpg  \n",
            "  inflating: india_food_21_small/idli/00000027.jpg  \n",
            "  inflating: india_food_21_small/jalebi/00000000.jpg  \n",
            "  inflating: india_food_21_small/jalebi/00000002.jpg  \n",
            "  inflating: india_food_21_small/jalebi/00000003.jpg  \n",
            "  inflating: india_food_21_small/jalebi/00000004.jpg  \n",
            "  inflating: india_food_21_small/jalebi/00000005.JPG  \n",
            "  inflating: india_food_21_small/jalebi/00000006.jpg  \n",
            "  inflating: india_food_21_small/jalebi/00000007.jpg  \n",
            "  inflating: india_food_21_small/jalebi/00000009.jpg  \n",
            "  inflating: india_food_21_small/jalebi/00000011.JPG  \n",
            "  inflating: india_food_21_small/jalebi/00000012.jpg  \n",
            "  inflating: india_food_21_small/jalebi/00000013.cms  \n",
            "  inflating: india_food_21_small/jalebi/00000014.jpg  \n",
            "  inflating: india_food_21_small/jalebi/00000015.png  \n",
            "  inflating: india_food_21_small/jalebi/00000016.jpg  \n",
            "  inflating: india_food_21_small/jalebi/00000017.jpg  \n",
            "  inflating: india_food_21_small/jalebi/00000019.jpg  \n",
            "  inflating: india_food_21_small/jalebi/00000020.jpg  \n",
            "  inflating: india_food_21_small/jalebi/00000021.jpg  \n",
            "  inflating: india_food_21_small/jalebi/00000022.jpg  \n",
            "  inflating: india_food_21_small/jalebi/00000023.jpg  \n",
            "  inflating: india_food_21_small/jalebi/00000024.jpg  \n",
            "  inflating: india_food_21_small/jalebi/00000025.JPG  \n",
            "  inflating: india_food_21_small/jalebi/00000026.jpg  \n",
            "  inflating: india_food_21_small/jalebi/00000027.jpg  \n",
            "  inflating: india_food_21_small/kachori/00000000.jpg  \n",
            "  inflating: india_food_21_small/kachori/00000001.jpg  \n",
            "  inflating: india_food_21_small/kachori/00000003.jpg  \n",
            "  inflating: india_food_21_small/kachori/00000004.jpg  \n",
            "  inflating: india_food_21_small/kachori/00000005.JPG  \n",
            "  inflating: india_food_21_small/kachori/00000007.jpg  \n",
            "  inflating: india_food_21_small/kachori/00000009.JPG  \n",
            "  inflating: india_food_21_small/kachori/00000010.jpg  \n",
            "  inflating: india_food_21_small/kachori/00000011.jpg  \n",
            "  inflating: india_food_21_small/kachori/00000012.jpg  \n",
            "  inflating: india_food_21_small/kachori/00000013.jpg  \n",
            "  inflating: india_food_21_small/kachori/00000014.jpg  \n",
            "  inflating: india_food_21_small/kachori/00000015.jpg  \n",
            "  inflating: india_food_21_small/kachori/00000016.jpg  \n",
            "  inflating: india_food_21_small/kachori/00000017.jpg  \n",
            "  inflating: india_food_21_small/kachori/00000018.jpg  \n",
            "  inflating: india_food_21_small/kachori/00000019.jpg  \n",
            "  inflating: india_food_21_small/kachori/00000020.jpg  \n",
            "  inflating: india_food_21_small/kachori/00000022.png  \n",
            "  inflating: india_food_21_small/kachori/00000023.jpg  \n",
            "  inflating: india_food_21_small/kadai_paneer/00000000.jpg  \n",
            "  inflating: india_food_21_small/kadai_paneer/00000001.jpg  \n",
            "  inflating: india_food_21_small/kadai_paneer/00000004.jpg  \n",
            "  inflating: india_food_21_small/kadai_paneer/00000006.jpg  \n",
            "  inflating: india_food_21_small/kadai_paneer/00000007.jpg  \n",
            "  inflating: india_food_21_small/kadai_paneer/00000008.jpg  \n",
            "  inflating: india_food_21_small/kadai_paneer/00000009.jpg  \n",
            "  inflating: india_food_21_small/kadai_paneer/00000010.jpg  \n",
            "  inflating: india_food_21_small/kadai_paneer/00000014.jpg  \n",
            "  inflating: india_food_21_small/kadai_paneer/00000015.jpg  \n",
            "  inflating: india_food_21_small/kadai_paneer/00000016.jpg  \n",
            "  inflating: india_food_21_small/kadai_paneer/00000017.jpg  \n",
            "  inflating: india_food_21_small/kadai_paneer/00000018.jpg  \n",
            "  inflating: india_food_21_small/kadai_paneer/00000021.jpg  \n",
            "  inflating: india_food_21_small/kadai_paneer/00000022.jpg  \n",
            "  inflating: india_food_21_small/kadai_paneer/00000025.jpg  \n",
            "  inflating: india_food_21_small/kulfi/00000000.jpg  \n",
            "  inflating: india_food_21_small/kulfi/00000001.jpg  \n",
            "  inflating: india_food_21_small/kulfi/00000004.jpg  \n",
            "  inflating: india_food_21_small/kulfi/00000005.jpg  \n",
            "  inflating: india_food_21_small/kulfi/00000006.cms  \n",
            "  inflating: india_food_21_small/kulfi/00000007.jpg  \n",
            "  inflating: india_food_21_small/kulfi/00000008.jpg  \n",
            "  inflating: india_food_21_small/kulfi/00000013.jpg  \n",
            "  inflating: india_food_21_small/kulfi/00000014.jpg  \n",
            "  inflating: india_food_21_small/kulfi/00000015.JPG  \n",
            "  inflating: india_food_21_small/kulfi/00000016.jpg  \n",
            "  inflating: india_food_21_small/kulfi/00000017.jpg  \n",
            "  inflating: india_food_21_small/kulfi/00000018.jpg  \n",
            "  inflating: india_food_21_small/kulfi/00000019.JPG  \n",
            "  inflating: india_food_21_small/kulfi/00000020.jpg  \n",
            "  inflating: india_food_21_small/kulfi/00000021.jpg  \n",
            "  inflating: india_food_21_small/kulfi/00000022.jpg  \n",
            "  inflating: india_food_21_small/kulfi/00000023.jpg  \n",
            "  inflating: india_food_21_small/kulfi/00000024.jpg  \n",
            "  inflating: india_food_21_small/kulfi/00000025.jpg  \n",
            "  inflating: india_food_21_small/kulfi/00000026.jpg  \n",
            "  inflating: india_food_21_small/masala_dosa/00000000.jpg  \n",
            "  inflating: india_food_21_small/masala_dosa/00000001.jpg  \n",
            "  inflating: india_food_21_small/masala_dosa/00000002.jpg  \n",
            "  inflating: india_food_21_small/masala_dosa/00000003.jpg  \n",
            "  inflating: india_food_21_small/masala_dosa/00000005.jpg  \n",
            "  inflating: india_food_21_small/masala_dosa/00000006.jpg  \n",
            "  inflating: india_food_21_small/masala_dosa/00000007.jpg  \n",
            "  inflating: india_food_21_small/masala_dosa/00000009.jpg  \n",
            "  inflating: india_food_21_small/masala_dosa/00000010.jpg  \n",
            "  inflating: india_food_21_small/masala_dosa/00000012.jpg  \n",
            "  inflating: india_food_21_small/masala_dosa/00000013.jpg  \n",
            "  inflating: india_food_21_small/masala_dosa/00000015.jpg  \n",
            "  inflating: india_food_21_small/masala_dosa/00000016.jpg  \n",
            "  inflating: india_food_21_small/masala_dosa/00000018.jpg  \n",
            "  inflating: india_food_21_small/masala_dosa/00000019.jpg  \n",
            "  inflating: india_food_21_small/masala_dosa/00000021.jpg  \n",
            "  inflating: india_food_21_small/masala_dosa/00000023.jpg  \n",
            "  inflating: india_food_21_small/masala_dosa/00000024.jpg  \n",
            "  inflating: india_food_21_small/masala_dosa/00000025.jpg  \n",
            "  inflating: india_food_21_small/masala_dosa/00000028.jpg  \n",
            "  inflating: india_food_21_small/masala_dosa/00000029.jpg  \n",
            "  inflating: india_food_21_small/nalli_nihari/00000001.jpg  \n",
            "  inflating: india_food_21_small/nalli_nihari/00000002.jpg  \n",
            "  inflating: india_food_21_small/nalli_nihari/00000003.jpg  \n",
            "  inflating: india_food_21_small/nalli_nihari/00000005.jpg  \n",
            "  inflating: india_food_21_small/nalli_nihari/00000007.jpg  \n",
            "  inflating: india_food_21_small/nalli_nihari/00000008.jpg  \n",
            "  inflating: india_food_21_small/nalli_nihari/00000009.jpg  \n",
            "  inflating: india_food_21_small/nalli_nihari/00000011.jpg  \n",
            "  inflating: india_food_21_small/nalli_nihari/00000013.jpg  \n",
            "  inflating: india_food_21_small/nalli_nihari/00000014.jpg  \n",
            "  inflating: india_food_21_small/nalli_nihari/00000015.JPG  \n",
            "  inflating: india_food_21_small/nalli_nihari/00000017.jpg  \n",
            "  inflating: india_food_21_small/nalli_nihari/00000018.jpg  \n",
            "  inflating: india_food_21_small/nalli_nihari/00000020.JPG  \n",
            "  inflating: india_food_21_small/nalli_nihari/00000024.jpg  \n",
            "  inflating: india_food_21_small/nalli_nihari/00000025.jpg  \n",
            "  inflating: india_food_21_small/pasta/00000000.jpg  \n",
            "  inflating: india_food_21_small/pasta/00000001.jpg  \n",
            "  inflating: india_food_21_small/pasta/00000002.jpg  \n",
            "  inflating: india_food_21_small/pasta/00000003.jpg  \n",
            "  inflating: india_food_21_small/pasta/00000004.jpg  \n",
            "  inflating: india_food_21_small/pasta/00000005.jpg  \n",
            "  inflating: india_food_21_small/pasta/00000006.jpg  \n",
            "  inflating: india_food_21_small/pasta/00000007.jpg  \n",
            "  inflating: india_food_21_small/pasta/00000008.jpg  \n",
            "  inflating: india_food_21_small/pasta/00000009.jpg  \n",
            "  inflating: india_food_21_small/pasta/00000010.jpg  \n",
            "  inflating: india_food_21_small/pasta/00000011.jpg  \n",
            "  inflating: india_food_21_small/pasta/00000012.jpg  \n",
            "  inflating: india_food_21_small/pasta/00000013.jpg  \n",
            "  inflating: india_food_21_small/pasta/00000014.jpg  \n",
            "  inflating: india_food_21_small/pasta/00000015.jpg  \n",
            "  inflating: india_food_21_small/pasta/00000016.jpg  \n",
            "  inflating: india_food_21_small/pasta/00000017.jpg  \n",
            "  inflating: india_food_21_small/pasta/00000018.jpg  \n",
            "  inflating: india_food_21_small/pasta/00000019.jpg  \n",
            "  inflating: india_food_21_small/pasta/00000020.jpg  \n",
            "  inflating: india_food_21_small/pasta/00000021.jpg  \n",
            "  inflating: india_food_21_small/pasta/00000022.jpg  \n",
            "  inflating: india_food_21_small/pasta/00000023.jpg  \n",
            "  inflating: india_food_21_small/pasta/00000024.jpg  \n",
            "  inflating: india_food_21_small/pasta/00000025.jpg  \n",
            "  inflating: india_food_21_small/peda/00000000.jpg  \n",
            "  inflating: india_food_21_small/peda/00000001.jpg  \n",
            "  inflating: india_food_21_small/peda/00000002.jpg  \n",
            "  inflating: india_food_21_small/peda/00000003.jpg  \n",
            "  inflating: india_food_21_small/peda/00000004.jpg  \n",
            "  inflating: india_food_21_small/peda/00000006.jpeg  \n",
            "  inflating: india_food_21_small/peda/00000007.jpg  \n",
            "  inflating: india_food_21_small/peda/00000009.jpg  \n",
            "  inflating: india_food_21_small/peda/00000010.JPG  \n",
            "  inflating: india_food_21_small/peda/00000011.jpg  \n",
            "  inflating: india_food_21_small/peda/00000012.jpg  \n",
            "  inflating: india_food_21_small/peda/00000013.jpg  \n",
            "  inflating: india_food_21_small/peda/00000014.jpg  \n",
            "  inflating: india_food_21_small/peda/00000015.jpg  \n",
            "  inflating: india_food_21_small/peda/00000016.jpg  \n",
            "  inflating: india_food_21_small/peda/00000017.jpg  \n",
            "  inflating: india_food_21_small/peda/00000018.jpg  \n",
            "  inflating: india_food_21_small/peda/00000019.jpg  \n",
            "  inflating: india_food_21_small/peda/00000020.jpg  \n",
            "  inflating: india_food_21_small/peda/00000022.jpg  \n",
            "  inflating: india_food_21_small/pizza/00000000.JPG  \n",
            "  inflating: india_food_21_small/pizza/00000001.jpg  \n",
            "  inflating: india_food_21_small/pizza/00000002.jpg  \n",
            "  inflating: india_food_21_small/pizza/00000003.jpg  \n",
            "  inflating: india_food_21_small/pizza/00000004.jpg  \n",
            "  inflating: india_food_21_small/pizza/00000005.jpg  \n",
            "  inflating: india_food_21_small/pizza/00000006.jpg  \n",
            "  inflating: india_food_21_small/pizza/00000007.jpg  \n",
            "  inflating: india_food_21_small/pizza/00000008.jpg  \n",
            "  inflating: india_food_21_small/pizza/00000009.jpg  \n",
            "  inflating: india_food_21_small/pizza/00000010.jpg  \n",
            "  inflating: india_food_21_small/pizza/00000011.jpg  \n",
            "  inflating: india_food_21_small/pizza/00000012.JPG  \n",
            "  inflating: india_food_21_small/pizza/00000013.jpg  \n",
            "  inflating: india_food_21_small/pizza/00000014.jpg  \n",
            "  inflating: india_food_21_small/pizza/00000015.jpg  \n",
            "  inflating: india_food_21_small/pizza/00000016.jpg  \n",
            "  inflating: india_food_21_small/pizza/00000017.jpg  \n",
            "  inflating: india_food_21_small/pizza/00000018.jpg  \n",
            "  inflating: india_food_21_small/pizza/00000020.jpg  \n",
            "  inflating: india_food_21_small/pizza/00000021.jpg  \n",
            "  inflating: india_food_21_small/pizza/00000023.jpg  \n",
            "  inflating: india_food_21_small/pizza/00000024.jpg  \n",
            "  inflating: india_food_21_small/pizza/00000025.jpg  \n",
            "  inflating: india_food_21_small/pizza/00000026.jpg  \n",
            "  inflating: india_food_21_small/pizza/00000027.jpg  \n",
            "  inflating: india_food_21_small/pizza/00000028.jpg  \n",
            "  inflating: india_food_21_small/pizza/00000029.jpg  \n",
            "  inflating: india_food_21_small/rasgulla/00000000.jpg  \n",
            "  inflating: india_food_21_small/rasgulla/00000001.jpg  \n",
            "  inflating: india_food_21_small/rasgulla/00000002.jpg  \n",
            "  inflating: india_food_21_small/rasgulla/00000003.jpg  \n",
            "  inflating: india_food_21_small/rasgulla/00000004.jpg  \n",
            "  inflating: india_food_21_small/rasgulla/00000005.jpg  \n",
            "  inflating: india_food_21_small/rasgulla/00000006.jpg  \n",
            "  inflating: india_food_21_small/rasgulla/00000008.jpg  \n",
            "  inflating: india_food_21_small/rasgulla/00000009.jpg  \n",
            "  inflating: india_food_21_small/rasgulla/00000010.jpg  \n",
            "  inflating: india_food_21_small/rasgulla/00000011.jpg  \n",
            "  inflating: india_food_21_small/rasgulla/00000012.jpg  \n",
            "  inflating: india_food_21_small/rasgulla/00000013.jpg  \n",
            "  inflating: india_food_21_small/rasgulla/00000014.jpg  \n",
            "  inflating: india_food_21_small/rasgulla/00000015.jpg  \n",
            "  inflating: india_food_21_small/rasgulla/00000016.jpg  \n",
            "  inflating: india_food_21_small/rasgulla/00000017.jpg  \n",
            "  inflating: india_food_21_small/rasgulla/00000019.jpg  \n",
            "  inflating: india_food_21_small/rasgulla/00000020.jpg  \n",
            "  inflating: india_food_21_small/rasgulla/00000022.jpg  \n",
            "  inflating: india_food_21_small/rasgulla/00000023.JPG  \n",
            "  inflating: india_food_21_small/rasgulla/00000024.JPG  \n",
            "  inflating: india_food_21_small/rasgulla/00000025.jpg  \n",
            "  inflating: india_food_21_small/rasgulla/00000026.jpg  \n",
            "  inflating: india_food_21_small/rasgulla/00000027.jpg  \n",
            "  inflating: india_food_21_small/rasgulla/00000028.jpg  \n",
            "  inflating: india_food_21_small/samosa/00000000.jpg  \n",
            "  inflating: india_food_21_small/samosa/00000001.jpg  \n",
            "  inflating: india_food_21_small/samosa/00000002.JPG  \n",
            "  inflating: india_food_21_small/samosa/00000004.jpg  \n",
            "  inflating: india_food_21_small/samosa/00000006.JPG  \n",
            "  inflating: india_food_21_small/samosa/00000007.jpg  \n",
            "  inflating: india_food_21_small/samosa/00000008.jpg  \n",
            "  inflating: india_food_21_small/samosa/00000009.jpg  \n",
            "  inflating: india_food_21_small/samosa/00000011.jpg  \n",
            "  inflating: india_food_21_small/samosa/00000012.jpg  \n",
            "  inflating: india_food_21_small/samosa/00000013.jpg  \n",
            "  inflating: india_food_21_small/samosa/00000015.jpg  \n",
            "  inflating: india_food_21_small/samosa/00000016.jpg  \n",
            "  inflating: india_food_21_small/samosa/00000017.jpg  \n",
            "  inflating: india_food_21_small/samosa/00000018.jpg  \n",
            "  inflating: india_food_21_small/samosa/00000019.jpg  \n",
            "  inflating: india_food_21_small/samosa/00000020.jpg  \n",
            "  inflating: india_food_21_small/samosa/00000022.jpg  \n",
            "  inflating: india_food_21_small/samosa/00000023.jpg  \n",
            "  inflating: india_food_21_small/samosa/00000024.jpg  \n",
            "  inflating: india_food_21_small/vada_pav/00000000.JPG  \n",
            "  inflating: india_food_21_small/vada_pav/00000002.jpg  \n",
            "  inflating: india_food_21_small/vada_pav/00000003.jpg  \n",
            "  inflating: india_food_21_small/vada_pav/00000004.jpg  \n",
            "  inflating: india_food_21_small/vada_pav/00000005.jpg  \n",
            "  inflating: india_food_21_small/vada_pav/00000006.jpg  \n",
            "  inflating: india_food_21_small/vada_pav/00000007.jpg  \n",
            "  inflating: india_food_21_small/vada_pav/00000008.jpg  \n",
            "  inflating: india_food_21_small/vada_pav/00000009.jpg  \n",
            "  inflating: india_food_21_small/vada_pav/00000010.jpg  \n",
            "  inflating: india_food_21_small/vada_pav/00000012.jpg  \n",
            "  inflating: india_food_21_small/vada_pav/00000013.jpg  \n",
            "  inflating: india_food_21_small/vada_pav/00000014.jpg  \n",
            "  inflating: india_food_21_small/vada_pav/00000016.png  \n",
            "  inflating: india_food_21_small/vada_pav/00000017.jpg  \n",
            "  inflating: india_food_21_small/vada_pav/00000019.JPG  \n",
            "  inflating: india_food_21_small/vada_pav/00000020.jpg  \n",
            "  inflating: india_food_21_small/vada_pav/00000021.jpg  \n",
            "  inflating: india_food_21_small/vada_pav/00000022.jpg  \n",
            "  inflating: india_food_21_small/vada_pav/00000023.jpg  \n",
            "  inflating: india_food_21_small/vada_pav/00000024.JPG  \n",
            "  inflating: india_food_21_small/vada_pav/00000025.jpg  \n",
            "  inflating: india_food_21_small/vada_pav/00000026.jpg  \n",
            "  inflating: india_food_21_small/vada_pav/00000028.jpg  \n"
          ],
          "name": "stdout"
        }
      ]
    },
    {
      "cell_type": "code",
      "metadata": {
        "id": "2-8buwrAhzcf"
      },
      "source": [
        "image_size = 224"
      ],
      "execution_count": 8,
      "outputs": []
    },
    {
      "cell_type": "code",
      "metadata": {
        "id": "fKf0Ajb9hR2b",
        "colab": {
          "base_uri": "https://localhost:8080/"
        },
        "outputId": "60e0900d-caca-411a-bee2-1d7d7c0d6328"
      },
      "source": [
        "from tensorflow.keras.preprocessing.image import ImageDataGenerator\r\n",
        "# All images will be rescaled by 1./255\r\n",
        "train_datagen = ImageDataGenerator(rescale=1/255)\r\n",
        "batch_size = 10\r\n",
        "train_data_dir = \"/content/india_food_21_small\"\r\n",
        "\r\n",
        "train_datagen = ImageDataGenerator(rescale=1./255,\r\n",
        "    shear_range=0.1,\r\n",
        "    zoom_range=0.1,\r\n",
        "    # horizontal_flip=True,\r\n",
        "    validation_split=0.1,# set validation split\r\n",
        "    rotation_range=10,  # randomly rotate images in the range (degrees, 0 to 180)\r\n",
        "    # zoom_range = 0.1, # Randomly zoom image \r\n",
        "    width_shift_range=0.1,  # randomly shift images horizontally (fraction of total width)\r\n",
        "    height_shift_range=0.1,  # randomly shift images vertically (fraction of total height)\r\n",
        "    horizontal_flip=True,  # randomly flip images\r\n",
        "    vertical_flip=True) \r\n",
        "\r\n",
        "train_generator = train_datagen.flow_from_directory(\r\n",
        "    train_data_dir,\r\n",
        "    target_size=(image_size, image_size),\r\n",
        "    batch_size=batch_size,\r\n",
        "    class_mode='binary',\r\n",
        "    subset='training') # set as training data\r\n",
        "\r\n",
        "validation_generator = train_datagen.flow_from_directory(\r\n",
        "    train_data_dir, # same directory as training data\r\n",
        "    target_size=(image_size, image_size),\r\n",
        "    batch_size=batch_size,\r\n",
        "    class_mode='binary',\r\n",
        "    subset='validation') # set as validation data\r\n",
        "\r\n",
        "# model.fit_generator(\r\n",
        "#     train_generator,\r\n",
        "#     steps_per_epoch = train_generator.samples // batch_size,\r\n",
        "#     validation_data = validation_generator, \r\n",
        "#     validation_steps = validation_generator.samples // batch_size,\r\n",
        "#     epochs = nb_epochs)"
      ],
      "execution_count": 9,
      "outputs": [
        {
          "output_type": "stream",
          "text": [
            "Found 414 images belonging to 21 classes.\n",
            "Found 38 images belonging to 21 classes.\n"
          ],
          "name": "stdout"
        }
      ]
    },
    {
      "cell_type": "code",
      "metadata": {
        "id": "QRkb-b9EQ_cf"
      },
      "source": [
        "# train_ds = tf.keras.preprocessing.image_dataset_from_directory(\r\n",
        "#     \"../input/indian-food-classification/Food Classification\",\r\n",
        "#     validation_split=0.2,\r\n",
        "#     subset=\"training\",\r\n",
        "#     seed=1337,\r\n",
        "#     image_size=image_size,\r\n",
        "#     batch_size=batch_size,\r\n",
        "#     label_mode=\"categorical\"\r\n",
        "# )"
      ],
      "execution_count": 10,
      "outputs": []
    },
    {
      "cell_type": "markdown",
      "metadata": {
        "id": "WKtd-edVRvRR"
      },
      "source": [
        "Create the Model"
      ]
    },
    {
      "cell_type": "code",
      "metadata": {
        "id": "TNDN7QjwRx0I",
        "colab": {
          "base_uri": "https://localhost:8080/"
        },
        "outputId": "1f9b2c49-05e7-43f1-b83d-150965ce2a93"
      },
      "source": [
        "#Import libraries\r\n",
        "import numpy as np \r\n",
        "import pandas as pd \r\n",
        "import os\r\n",
        "import matplotlib.pyplot as plt\r\n",
        "import cv2 \r\n",
        "from random import shuffle \r\n",
        "from tqdm import tqdm \r\n",
        "from PIL import Image\r\n",
        "import warnings\r\n",
        "warnings.filterwarnings('ignore')\r\n",
        "import os\r\n",
        "# print(os.listdir(\"../<file>\"))\r\n",
        "import csv\r\n",
        "import tensorflow as tf\r\n",
        "from tensorflow.keras.callbacks import ReduceLROnPlateau, EarlyStopping\r\n",
        "print(tf.__version__)\r\n",
        "# from keras.datasets import cifar10\r\n",
        "%matplotlib inline"
      ],
      "execution_count": 11,
      "outputs": [
        {
          "output_type": "stream",
          "text": [
            "2.4.1\n"
          ],
          "name": "stdout"
        }
      ]
    },
    {
      "cell_type": "code",
      "metadata": {
        "id": "c1A3tA2HULxA"
      },
      "source": [
        "# image_size = 224 #It was set to 224 above"
      ],
      "execution_count": 12,
      "outputs": []
    },
    {
      "cell_type": "code",
      "metadata": {
        "colab": {
          "base_uri": "https://localhost:8080/"
        },
        "id": "BGiqpEZi1u9X",
        "outputId": "32047b1f-d938-4d7d-bbc3-0bb24ee4c38f"
      },
      "source": [
        "!pip install h5py"
      ],
      "execution_count": 13,
      "outputs": [
        {
          "output_type": "stream",
          "text": [
            "Requirement already satisfied: h5py in /usr/local/lib/python3.7/dist-packages (2.10.0)\n",
            "Requirement already satisfied: six in /usr/local/lib/python3.7/dist-packages (from h5py) (1.15.0)\n",
            "Requirement already satisfied: numpy>=1.7 in /usr/local/lib/python3.7/dist-packages (from h5py) (1.19.5)\n"
          ],
          "name": "stdout"
        }
      ]
    },
    {
      "cell_type": "code",
      "metadata": {
        "id": "Ms58j7RXX02i",
        "colab": {
          "base_uri": "https://localhost:8080/"
        },
        "outputId": "239ed5a6-a488-47af-d7d6-a122ae0ed411"
      },
      "source": [
        "# from keras.models import Model\r\n",
        "epochs = 5\r\n",
        "batch_size = 10\r\n",
        "\r\n",
        "\r\n",
        "model = tf.keras.models.Sequential([\r\n",
        "  tf.keras.layers.Conv2D(64, (3,3), activation='relu', input_shape=(image_size,image_size, 3)),\r\n",
        "  tf.keras.layers.MaxPooling2D(2, 2),\r\n",
        "  tf.keras.layers.Conv2D(64, (3,3), activation='relu'),\r\n",
        "  tf.keras.layers.MaxPooling2D(2,2),\r\n",
        "  tf.keras.layers.Flatten(),\r\n",
        "  tf.keras.layers.Dense(128, activation='relu'),\r\n",
        "  tf.keras.layers.Dense(21, activation='softmax')\r\n",
        "])\r\n",
        "model.compile(optimizer='adam', loss='sparse_categorical_crossentropy', metrics=['accuracy'])\r\n",
        "# model.summary()\r\n",
        "earlystopper = EarlyStopping(monitor='val_accuracy', patience=10, verbose=1)\r\n",
        "reduce_lr = ReduceLROnPlateau(monitor='val_accuracy', factor=0.5, patience=2, \r\n",
        "                                   verbose=1, mode='max', min_lr=0.00001)\r\n",
        "\r\n",
        "# model.fit_generator(generator=train_generator,\r\n",
        "#                     validation_data=validation_generator,\r\n",
        "#                     use_multiprocessing=True,\r\n",
        "#                     workers=6)\r\n",
        "\r\n",
        "history = model.fit_generator(generator=train_generator,\r\n",
        "                              epochs = epochs, validation_data = validation_generator,\r\n",
        "                              verbose = 1, \r\n",
        "                              steps_per_epoch = 40, #x_train.shape[0] // batch_size\r\n",
        "                              callbacks=[reduce_lr, earlystopper],\r\n",
        "                              )\r\n"
      ],
      "execution_count": 14,
      "outputs": [
        {
          "output_type": "stream",
          "text": [
            "Epoch 1/5\n",
            "40/40 [==============================] - 21s 358ms/step - loss: 4.6399 - accuracy: 0.0449 - val_loss: 3.1101 - val_accuracy: 0.0526\n",
            "WARNING:tensorflow:Learning rate reduction is conditioned on metric `val_acc` which is not available. Available metrics are: loss,accuracy,val_loss,val_accuracy,lr\n",
            "WARNING:tensorflow:Early stopping conditioned on metric `val_acc` which is not available. Available metrics are: loss,accuracy,val_loss,val_accuracy,lr\n",
            "Epoch 2/5\n",
            "40/40 [==============================] - 15s 376ms/step - loss: 3.0067 - accuracy: 0.0859 - val_loss: 2.9754 - val_accuracy: 0.0526\n",
            "WARNING:tensorflow:Learning rate reduction is conditioned on metric `val_acc` which is not available. Available metrics are: loss,accuracy,val_loss,val_accuracy,lr\n",
            "WARNING:tensorflow:Early stopping conditioned on metric `val_acc` which is not available. Available metrics are: loss,accuracy,val_loss,val_accuracy,lr\n",
            "Epoch 3/5\n",
            "40/40 [==============================] - 15s 382ms/step - loss: 2.8874 - accuracy: 0.1364 - val_loss: 2.9274 - val_accuracy: 0.0526\n",
            "WARNING:tensorflow:Learning rate reduction is conditioned on metric `val_acc` which is not available. Available metrics are: loss,accuracy,val_loss,val_accuracy,lr\n",
            "WARNING:tensorflow:Early stopping conditioned on metric `val_acc` which is not available. Available metrics are: loss,accuracy,val_loss,val_accuracy,lr\n",
            "Epoch 4/5\n",
            "40/40 [==============================] - 15s 379ms/step - loss: 2.7768 - accuracy: 0.1096 - val_loss: 3.0298 - val_accuracy: 0.1053\n",
            "WARNING:tensorflow:Learning rate reduction is conditioned on metric `val_acc` which is not available. Available metrics are: loss,accuracy,val_loss,val_accuracy,lr\n",
            "WARNING:tensorflow:Early stopping conditioned on metric `val_acc` which is not available. Available metrics are: loss,accuracy,val_loss,val_accuracy,lr\n",
            "Epoch 5/5\n",
            "40/40 [==============================] - 15s 380ms/step - loss: 2.7031 - accuracy: 0.1832 - val_loss: 2.9049 - val_accuracy: 0.0526\n",
            "WARNING:tensorflow:Learning rate reduction is conditioned on metric `val_acc` which is not available. Available metrics are: loss,accuracy,val_loss,val_accuracy,lr\n",
            "WARNING:tensorflow:Early stopping conditioned on metric `val_acc` which is not available. Available metrics are: loss,accuracy,val_loss,val_accuracy,lr\n"
          ],
          "name": "stdout"
        }
      ]
    },
    {
      "cell_type": "code",
      "metadata": {
        "id": "WrbV6yd475BY"
      },
      "source": [
        "model.save('best_model.h5')"
      ],
      "execution_count": 15,
      "outputs": []
    },
    {
      "cell_type": "code",
      "metadata": {
        "colab": {
          "base_uri": "https://localhost:8080/",
          "height": 265
        },
        "id": "Th6efxSu6o9g",
        "outputId": "deb64295-29a8-48e5-ec86-e275965ec34d"
      },
      "source": [
        "# Plot the loss and accuracy curves for training and validation \r\n",
        "fig, ax = plt.subplots(2,1)\r\n",
        "ax[0].plot(history.history['loss'], color='b', label=\"Training loss\")\r\n",
        "ax[0].plot(history.history['val_loss'], color='r', label=\"validation loss\",axes =ax[0])\r\n",
        "legend = ax[0].legend(loc='best', shadow=True)\r\n",
        "\r\n",
        "ax[1].plot(history.history['accuracy'], color='b', label=\"Training accuracy\")\r\n",
        "ax[1].plot(history.history['val_accuracy'], color='r',label=\"Validation accuracy\")\r\n",
        "legend = ax[1].legend(loc='best', shadow=True)"
      ],
      "execution_count": 17,
      "outputs": [
        {
          "output_type": "display_data",
          "data": {
            "image/png": "[encoded data removed]",
            "text/plain": [
              "<Figure size 432x288 with 2 Axes>"
            ]
          },
          "metadata": {
            "tags": [],
            "needs_background": "light"
          }
        }
      ]
    },
    {
      "cell_type": "code",
      "metadata": {
        "colab": {
          "resources": {
            "http://localhost:8080/nbextensions/google.colab/files.js": {
              "data": "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",
              "ok": true,
              "headers": [
                [
                  "content-type",
                  "application/javascript"
                ]
              ],
              "status": 200,
              "status_text": ""
            }
          },
          "base_uri": "https://localhost:8080/",
          "height": 73
        },
        "id": "xbj81XKX95DY",
        "outputId": "a4faeb60-3f94-44bf-863f-230e6dfa6806"
      },
      "source": [
        "from google.colab import files\r\n",
        "uploaded = files.upload()"
      ],
      "execution_count": 19,
      "outputs": [
        {
          "output_type": "display_data",
          "data": {
            "text/html": [
              "\n",
              "     <input type=\"file\" id=\"files-9f498ce9-4d6e-4605-a51e-c42091eb933c\" name=\"files[]\" multiple disabled\n",
              "        style=\"border:none\" />\n",
              "     <output id=\"result-9f498ce9-4d6e-4605-a51e-c42091eb933c\">\n",
              "      Upload widget is only available when the cell has been executed in the\n",
              "      current browser session. Please rerun this cell to enable.\n",
              "      </output>\n",
              "      <script src=\"/nbextensions/google.colab/files.js\"></script> "
            ],
            "text/plain": [
              "<IPython.core.display.HTML object>"
            ]
          },
          "metadata": {
            "tags": []
          }
        },
        {
          "output_type": "stream",
          "text": [
            "Saving idli.jpg to idli.jpg\n"
          ],
          "name": "stdout"
        }
      ]
    },
    {
      "cell_type": "code",
      "metadata": {
        "colab": {
          "base_uri": "https://localhost:8080/"
        },
        "id": "JuqEa1Yz7vsx",
        "outputId": "17ec53ad-a2f3-4ef8-89de-5e25c8af1730"
      },
      "source": [
        "# predict results\r\n",
        "test_image_path = \"/content/idli.jpg\"\r\n",
        "image = cv2.imread(test_image_path)\r\n",
        "test_image = cv2.resize(image, (image_size, image_size), interpolation = cv2.INTER_NEAREST)\r\n",
        "test_image = np.expand_dims(test_image, axis=0)\r\n",
        "results = model.predict(test_image)\r\n",
        "\r\n",
        "# select the indix with the maximum probability\r\n",
        "results = np.argmax(results,axis = 1)\r\n",
        "results[0]"
      ],
      "execution_count": 28,
      "outputs": [
        {
          "output_type": "execute_result",
          "data": {
            "text/plain": [
              "8"
            ]
          },
          "metadata": {
            "tags": []
          },
          "execution_count": 28
        }
      ]
    },
    {
      "cell_type": "code",
      "metadata": {
        "colab": {
          "base_uri": "https://localhost:8080/",
          "height": 35
        },
        "id": "zyJnUjiD-rFf",
        "outputId": "06cb0d48-03ee-4742-d281-ddbce404502c"
      },
      "source": [
        "class_list = list(train_generator.class_indices.keys())\r\n",
        "class_list[8]"
      ],
      "execution_count": 30,
      "outputs": [
        {
          "output_type": "execute_result",
          "data": {
            "application/vnd.google.colaboratory.intrinsic+json": {
              "type": "string"
            },
            "text/plain": [
              "'idli'"
            ]
          },
          "metadata": {
            "tags": []
          },
          "execution_count": 30
        }
      ]
    },
    {
      "cell_type": "code",
      "metadata": {
        "id": "30FtOx5rYMXZ"
      },
      "source": [
        "# # test_loss, test_acc = model.evaluate(test_images, test_labels)\r\n",
        "# print(test_acc)\r\n",
        "# loss, accuracy = model.evaluate(x_test, y_test, verbose=1)\r\n",
        "# loss_v, accuracy_v = model.evaluate(x_validate, y_validate, verbose=1)\r\n",
        "# print(\"Validation: accuracy = %f  ;  loss_v = %f\" % (accuracy_v, loss_v))\r\n",
        "# print(\"Test: accuracy = %f  ;  loss = %f\" % (accuracy, loss))\r\n",
        "# model.save(\"model.h5\")"
      ],
      "execution_count": null,
      "outputs": []
    }
  ]
}