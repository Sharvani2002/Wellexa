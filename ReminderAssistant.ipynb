{
 "cells": [
  {
   "cell_type": "code",
   "execution_count": 1,
   "metadata": {},
   "outputs": [],
   "source": [
    "import getpass\n",
    "import os\n",
    "import schedule\n",
    "import time\n",
    "import pyttsx3\n",
    "import random"
   ]
  },
  {
   "cell_type": "code",
   "execution_count": 2,
   "metadata": {},
   "outputs": [],
   "source": [
    "def text_to_speech(text, gender):\n",
    "    voice_dict = {'Male': 0, 'Female': 1}\n",
    "    code = voice_dict[gender]\n",
    "\n",
    "    engine = pyttsx3.init()\n",
    "\n",
    "    # Setting up voice rate\n",
    "    engine.setProperty('rate', 125)\n",
    "\n",
    "    # Setting up volume level  between 0 and 1\n",
    "    engine.setProperty('volume', 0.8)\n",
    "\n",
    "    # Change voices: 0 for male and 1 for female\n",
    "    voices = engine.getProperty('voices')\n",
    "    engine.setProperty('voice', voices[code].id)\n",
    "\n",
    "    engine.say(text)\n",
    "    engine.runAndWait()"
   ]
  },
  {
   "cell_type": "code",
   "execution_count": 3,
   "metadata": {},
   "outputs": [],
   "source": [
    "def water_notification():\n",
    "\tmessage=[\"Drink enough water to keep fit and healthy\",\"Time to quench your thirst\",\"Staying hydrated is a daily necessity, no matter what the thermometer says\",\"get yourself a glass of water\"]\n",
    "\tgender=[\"Male\",\"Female\"]\n",
    "\ttext_to_speech(random.choice(message),random.choice(gender))"
   ]
  },
  {
   "cell_type": "code",
   "execution_count": 4,
   "metadata": {},
   "outputs": [],
   "source": [
    "def take_medication():\n",
    "\tmessage=\"Time to take your medicine\"\n",
    "\tgender=[\"Male\",\"Female\"]\n",
    "\ttext_to_speech(random.choice(message),random.choice(gender))"
   ]
  },
  {
   "cell_type": "code",
   "execution_count": 5,
   "metadata": {},
   "outputs": [],
   "source": [
    "def wish(): \t\t\t# method to wish the user a morning or after noon or night based on time and give the date, day and time .\n",
    "\tcurrent_time=time.localtime()\n",
    "\tif current_time[3] < 12 :\n",
    "\t\tmessage=[\" Good Morining \",\"Time to get up. Hope you have a good day\"]\n",
    "\t\tgender=[\"Male\",\"Female\"]\n",
    "\t\ttext_to_speech(random.choice(message),random.choice(gender))\n",
    "\telif current_time[3] in range(12,18):\n",
    "\t\tmessage=[\" Good Afternoon\",\"It's lunch time!\"]\n",
    "\t\tgender=[\"Male\",\"Female\"]\n",
    "\t\ttext_to_speech(random.choice(message),random.choice(gender))\n",
    "\telif current_time[3] in range(18,20):\n",
    "\t\tmessage=[\" Good Evening \", \"Time to return home after the day's work\"]\n",
    "\t\tgender=[\"Male\",\"Female\"]\n",
    "\t\ttext_to_speech(random.choice(message),random.choice(gender))\n",
    "\telse:\n",
    "\t\tmessage=[\" Good Night\",\"Hope you sleep well\"]\n",
    "\t\tgender=[\"Male\",\"Female\"]\n",
    "\t\ttext_to_speech(random.choice(message),random.choice(gender))\n",
    "        "
   ]
  },
  {
   "cell_type": "code",
   "execution_count": 6,
   "metadata": {},
   "outputs": [],
   "source": [
    "def bedtime():\n",
    "\tmessage=[\" Good Night\",\"Hope you sleep well\",\"Time to go to bed\", \"Goodnight! Dream well\"]\n",
    "\tgender=[\"Male\",\"Female\"]\n",
    "\ttext_to_speech(random.choice(message),random.choice(gender))"
   ]
  },
  {
   "cell_type": "code",
   "execution_count": 7,
   "metadata": {},
   "outputs": [],
   "source": [
    "def take_a_break():\n",
    "\tmessage=[\"Need a break? Well, it's time to take one now... You have been busy for quite a while now\",\"Get up and have a look outside your window\",\"Relaxations are necessary to work efficiently\",\"Close your eyes and relax for a while\"]\n",
    "\tgender=[\"Male\",\"Female\"]\n",
    "\ttext_to_speech(random.choice(message),random.choice(gender))"
   ]
  },
  {
   "cell_type": "code",
   "execution_count": 8,
   "metadata": {},
   "outputs": [],
   "source": [
    "def greeting():\n",
    "\tmessage=[\"Hello! Reminder has been activated\",\"Don't worry! We will help you stay fit and healthy\"]\n",
    "\tgender=[\"Male\",\"Female\"]\n",
    "\ttext_to_speech(random.choice(message),random.choice(gender))"
   ]
  },
  {
   "cell_type": "code",
   "execution_count": 9,
   "metadata": {},
   "outputs": [],
   "source": [
    "import urllib.request\n",
    "from flask import Flask, request, redirect, url_for, render_template, send_from_directory,Response\n",
    "from werkzeug.utils import secure_filename\n",
    "from flask_cors import cross_origin\n",
    "\n",
    "\n",
    "app = Flask(__name__, static_url_path=\"/static\")\n",
    "app.secret_key = \"secret key\"\n",
    "app.config['MAX_CONTENT_LENGTH'] = 16 * 1024 * 1024"
   ]
  },
  {
   "cell_type": "code",
   "execution_count": null,
   "metadata": {},
   "outputs": [
    {
     "name": "stdout",
     "output_type": "stream",
     "text": [
      " * Serving Flask app \"__main__\" (lazy loading)\n",
      " * Environment: production\n",
      "   WARNING: This is a development server. Do not use it in a production deployment.\n",
      "   Use a production WSGI server instead.\n",
      " * Debug mode: off\n"
     ]
    },
    {
     "name": "stderr",
     "output_type": "stream",
     "text": [
      " * Running on http://127.0.0.1:5000/ (Press CTRL+C to quit)\n",
      "127.0.0.1 - - [28/Feb/2021 09:56:39] \"\u001b[37mGET / HTTP/1.1\u001b[0m\" 200 -\n",
      "127.0.0.1 - - [28/Feb/2021 09:56:39] \"\u001b[33mGET /Text.css HTTP/1.1\u001b[0m\" 404 -\n",
      "127.0.0.1 - - [28/Feb/2021 09:56:40] \"\u001b[37mGET /static/text2speech.html HTTP/1.1\u001b[0m\" 200 -\n",
      "127.0.0.1 - - [28/Feb/2021 09:56:40] \"\u001b[33mGET /static/Text.css HTTP/1.1\u001b[0m\" 404 -\n"
     ]
    }
   ],
   "source": [
    "@app.route('/')\n",
    "def index():\n",
    "    return render_template('homepage.html')\n",
    "    \n",
    "@app.route('/static/text2speech.html',methods=['GET', 'POST'])\n",
    "@cross_origin()\n",
    "def index_text2speech():\n",
    "    if request.method == 'POST':\n",
    "        greeting()\n",
    "        time1 = request.form['time1']\n",
    "        time2 = request.form['time2']\n",
    "        time3 = request.form['time3']\n",
    "        time1=int(time1)\n",
    "        time2=int(time2)\n",
    "        schedule.every(time1).hours.do(water_notification)\n",
    "        schedule.every(time2).minutes.do(take_a_break)  \n",
    "        schedule.every().day.at(\"09:00\").do(take_medication)\n",
    "        schedule.every().day.at(\"22:00\").do(bedtime)\n",
    "        schedule.every().day.at(\"07:00\").do(wish)\n",
    "        while True:\n",
    "        \tschedule.run_pending()\n",
    "        \ttime.sleep(1)\n",
    "        return render_template('text2speech.html')\n",
    "    else:\n",
    "        return render_template('text2speech.html')\n",
    "    \n",
    "@app.route('/static/index.html',methods=['GET', 'POST'])\n",
    "def index_home():\n",
    "       return render_template('index.html')\n",
    "\n",
    "@app.route('/static/homepage.html',methods=['GET', 'POST'])\n",
    "def mainhome():\n",
    "       return render_template('homepage.html')\n",
    "\n",
    "if __name__ == '__main__':\n",
    "    app.run()\n"
   ]
  }
 ],
 "metadata": {
  "kernelspec": {
   "display_name": "Python 3",
   "language": "python",
   "name": "python3"
  },
  "language_info": {
   "codemirror_mode": {
    "name": "ipython",
    "version": 3
   },
   "file_extension": ".py",
   "mimetype": "text/x-python",
   "name": "python",
   "nbconvert_exporter": "python",
   "pygments_lexer": "ipython3",
   "version": "3.8.3"
  }
 },
 "nbformat": 4,
 "nbformat_minor": 4
}
